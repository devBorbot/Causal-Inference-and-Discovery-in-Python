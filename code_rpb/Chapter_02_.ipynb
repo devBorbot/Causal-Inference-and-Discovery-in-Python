{
 "cells": [
  {
   "cell_type": "code",
   "execution_count": null,
   "id": "d885824b",
   "metadata": {},
   "outputs": [],
   "source": [
    "import numpy as np\n",
    "from scipy import stats\n",
    "\n",
    "import matplotlib.pyplot as plt\n",
    "plt.style.use('fivethirtyeight')"
   ]
  },
  {
   "cell_type": "code",
   "execution_count": null,
   "id": "7a2494ed",
   "metadata": {},
   "outputs": [],
   "source": [
    "COLORS = [\n",
    "    '#00B0F0',\n",
    "    '#FF0000'\n",
    "]"
   ]
  },
  {
   "cell_type": "markdown",
   "id": "a0fd06fd",
   "metadata": {},
   "source": [
    "# Chapter 02\n",
    "\n",
    "This chapter introduces the concept of “the ladder of causation”. We focus on highlighting differences between three main concepts: associations, interventions and counterfactuals. We provide the reader with a couple of thought experiments to strengthen the understanding of these concepts and implement these experiments in Python. Finally, we demonstrate how counterfactuals can be used for model prediction explanations (e.g. in finance)."
   ]
  },
  {
   "cell_type": "markdown",
   "id": "c6c49b0c",
   "metadata": {},
   "source": [
    "## Association"
   ]
  },
  {
   "cell_type": "markdown",
   "id": "2be8da82",
   "metadata": {},
   "source": [
    "### Bookstore example"
   ]
  },
  {
   "cell_type": "code",
   "execution_count": null,
   "id": "7f5e9d21",
   "metadata": {},
   "outputs": [],
   "source": [
    "# First, we'll build a structural causal model (SCM)\n",
    "class BookSCM:\n",
    "    \n",
    "    def __init__(self, random_seed=None):\n",
    "        self.random_seed = random_seed\n",
    "        self.u_0 = stats.uniform()\n",
    "        self.u_1 = stats.norm()\n",
    "        \n",
    "    def sample(self, sample_size=100):\n",
    "        \"\"\"Samples from the SCM\"\"\"\n",
    "        if self.random_seed:\n",
    "            np.random.seed(self.random_seed)\n",
    "        \n",
    "        u_0 = self.u_0.rvs(sample_size)\n",
    "        u_1 = self.u_1.rvs(sample_size)\n",
    "        a = u_0 > .61\n",
    "        b = (a + .5 * u_1) > .2\n",
    "        \n",
    "        return a, b"
   ]
  },
  {
   "cell_type": "code",
   "execution_count": null,
   "id": "5e1ea2e0",
   "metadata": {},
   "outputs": [],
   "source": [
    "# Let's initialize our SCM\n",
    "scm = BookSCM(random_seed=45)"
   ]
  },
  {
   "cell_type": "code",
   "execution_count": null,
   "id": "fbf25307",
   "metadata": {},
   "outputs": [],
   "source": [
    "# ...and sample from it\n",
    "buy_book_a, buy_book_b = scm.sample(100)"
   ]
  },
  {
   "cell_type": "code",
   "execution_count": null,
   "id": "9a42fd00",
   "metadata": {},
   "outputs": [],
   "source": [
    "# Sanity check\n",
    "buy_book_a.shape, buy_book_b.shape"
   ]
  },
  {
   "cell_type": "code",
   "execution_count": null,
   "id": "9cfaa047",
   "metadata": {},
   "outputs": [],
   "source": [
    "# Let's compute probabilities\n",
    "proba_book_a = buy_book_a.sum() / buy_book_a.shape[0]\n",
    "proba_book_b = buy_book_b.sum() / buy_book_b.shape[0]\n",
    "\n",
    "print(f'Probability of buying book A: {proba_book_a:0.3f}')\n",
    "print(f'Probability of buying book B: {proba_book_b:0.3f}')\n",
    "\n",
    "# ...and conditional probailities\n",
    "proba_book_a_given_book_b = np.where(buy_book_b, buy_book_a, 0).sum() / buy_book_b.sum()\n",
    "proba_book_b_given_book_a = np.where(buy_book_a, buy_book_b, 0).sum() / buy_book_a.sum()\n",
    "\n",
    "print(f'Probability of buying book A given B: {proba_book_a_given_book_b:0.3f}')\n",
    "print(f'Probability of buying book B given A: {proba_book_b_given_book_a:0.3f}')"
   ]
  },
  {
   "cell_type": "markdown",
   "id": "735d33fe",
   "metadata": {},
   "source": [
    "## Intervention"
   ]
  },
  {
   "cell_type": "code",
   "execution_count": null,
   "id": "125275ff",
   "metadata": {},
   "outputs": [],
   "source": [
    "SAMPLE_SIZE = 100\n",
    "\n",
    "np.random.seed(45)\n",
    "\n",
    "u_0 = np.random.randn(SAMPLE_SIZE)\n",
    "u_1 = np.random.randn(SAMPLE_SIZE)\n",
    "a = u_0\n",
    "b = 5 * a + u_1\n",
    "\n",
    "r, p = stats.pearsonr(a, b)\n",
    "\n",
    "print(f'Mean of B before any intervention: {b.mean():.3f}')\n",
    "print(f'Variance of B before any intervention: {b.var():.3f}')\n",
    "print(f'Correlation between A and B:\\nr = {r:.3f}; p = {p:.3f}\\n')\n",
    "\n",
    "a = np.array([1.5] * SAMPLE_SIZE)\n",
    "b = 5 * a + u_1\n",
    "\n",
    "print(f'Mean of B after the intervention on A: {b.mean():.3f}')\n",
    "print(f'Variance of B after the intervention on A: {b.var():.3f}\\n')\n",
    "\n",
    "a = u_0\n",
    "b = np.random.randn(SAMPLE_SIZE)\n",
    "\n",
    "r, p = stats.pearsonr(a, b)\n",
    "\n",
    "print(f'Mean of B after the intervention on B: {b.mean():.3f}')\n",
    "print(f'Variance of B after the intervention on B: {b.var():.3f}')\n",
    "print(f'Correlation between A and B after intervening on B:\\nr = {r:.3f}; p = {p:.3f}\\n')"
   ]
  },
  {
   "cell_type": "code",
   "execution_count": null,
   "id": "77485cd1",
   "metadata": {},
   "outputs": [],
   "source": [
    "np.array([1.5] * SAMPLE_SIZE)"
   ]
  },
  {
   "cell_type": "markdown",
   "id": "1d17be2b",
   "metadata": {},
   "source": [
    "## Counterfactuals"
   ]
  },
  {
   "cell_type": "markdown",
   "id": "64a2d342",
   "metadata": {},
   "source": [
    "We'll use the following SCM:\n",
    "\n",
    "$$\\large Y := TU + (T-1)(U-1)$$"
   ]
  },
  {
   "cell_type": "code",
   "execution_count": null,
   "id": "ac4c9175",
   "metadata": {},
   "outputs": [],
   "source": [
    "class CounterfactualSCM:\n",
    "    \n",
    "    def abduct(self, t, y):\n",
    "        return (t + y - 1)/(2*t - 1)\n",
    "    \n",
    "    def modify(self, t):\n",
    "        return lambda u: t * u + (t - 1) * (u - 1)\n",
    "        \n",
    "    def predict(self, u, t):\n",
    "        return self.modify(t)(u)"
   ]
  },
  {
   "cell_type": "code",
   "execution_count": null,
   "id": "060be2c3",
   "metadata": {},
   "outputs": [],
   "source": [
    "coffee = CounterfactualSCM()\n",
    "t = 1\n",
    "y = 1"
   ]
  },
  {
   "cell_type": "code",
   "execution_count": null,
   "id": "b40ca681",
   "metadata": {},
   "outputs": [],
   "source": [
    "u = coffee.abduct(t=t, y=y)\n",
    "u"
   ]
  },
  {
   "cell_type": "code",
   "execution_count": null,
   "id": "f0d28a6f",
   "metadata": {
    "scrolled": true
   },
   "outputs": [],
   "source": [
    "coffee.predict(u=u, t=0)"
   ]
  },
  {
   "cell_type": "markdown",
   "id": "90f12e93",
   "metadata": {},
   "source": [
    "## Causation without correlation - plots"
   ]
  },
  {
   "cell_type": "markdown",
   "id": "4fa7369e",
   "metadata": {},
   "source": [
    "### Non-monotonic case"
   ]
  },
  {
   "cell_type": "code",
   "execution_count": null,
   "id": "9fe93c0a",
   "metadata": {},
   "outputs": [],
   "source": [
    "x = np.random.uniform(-2, 2, 5000)\n",
    "y = x**2 + 0.2*np.random.randn(len(x))"
   ]
  },
  {
   "cell_type": "code",
   "execution_count": null,
   "id": "0dcc1649",
   "metadata": {
    "scrolled": true
   },
   "outputs": [],
   "source": [
    "plt.scatter(x, y, alpha=.1)\n",
    "plt.xlabel('$X$', alpha=.5)\n",
    "plt.ylabel('$Y$', alpha=.5)\n",
    "plt.show()"
   ]
  },
  {
   "cell_type": "code",
   "execution_count": null,
   "id": "6836fe51",
   "metadata": {},
   "outputs": [],
   "source": [
    "# Correlation coefficient\n",
    "stats.spearmanr(x, y)"
   ]
  },
  {
   "cell_type": "markdown",
   "id": "b31a2fb0",
   "metadata": {},
   "source": [
    "### Bad sampling case"
   ]
  },
  {
   "cell_type": "code",
   "execution_count": null,
   "id": "233017fe",
   "metadata": {},
   "outputs": [],
   "source": [
    "# Get initial x\n",
    "x = np.random.uniform(-2, 2, 5000)\n",
    "\n",
    "# Filter samples\n",
    "x = x[np.where((x < -1.9) | (x > 1.9), True, False)]\n",
    "\n",
    "# Get y\n",
    "y = x**2 + 0.2*np.random.randn(len(x))"
   ]
  },
  {
   "cell_type": "code",
   "execution_count": null,
   "id": "218c2245",
   "metadata": {},
   "outputs": [],
   "source": [
    "plt.scatter(x, y, alpha=.1)\n",
    "plt.xlabel('$X$', alpha=.5)\n",
    "plt.ylabel('$Y$', alpha=.5)\n",
    "plt.show()"
   ]
  },
  {
   "cell_type": "code",
   "execution_count": null,
   "id": "1f458191",
   "metadata": {},
   "outputs": [],
   "source": [
    "# Correlation coefficient\n",
    "stats.spearmanr(x, y)"
   ]
  },
  {
   "cell_type": "code",
   "execution_count": null,
   "id": "4cc4c161",
   "metadata": {},
   "outputs": [],
   "source": []
  }
 ],
 "metadata": {
  "kernelspec": {
   "display_name": "Python [conda env:causal_book_py39] *",
   "language": "python",
   "name": "conda-env-causal_book_py39-py"
  },
  "language_info": {
   "codemirror_mode": {
    "name": "ipython",
    "version": 3
   },
   "file_extension": ".py",
   "mimetype": "text/x-python",
   "name": "python",
   "nbconvert_exporter": "python",
   "pygments_lexer": "ipython3",
   "version": "3.9.21"
  }
 },
 "nbformat": 4,
 "nbformat_minor": 5
}
